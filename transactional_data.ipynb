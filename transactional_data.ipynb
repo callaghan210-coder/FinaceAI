{
  "nbformat": 4,
  "nbformat_minor": 0,
  "metadata": {
    "colab": {
      "provenance": [],
      "authorship_tag": "ABX9TyMH/zdhb5qf1rBupIgk/zDE",
      "include_colab_link": true
    },
    "kernelspec": {
      "name": "python3",
      "display_name": "Python 3"
    },
    "language_info": {
      "name": "python"
    }
  },
  "cells": [
    {
      "cell_type": "markdown",
      "metadata": {
        "id": "view-in-github",
        "colab_type": "text"
      },
      "source": [
        "<a href=\"https://colab.research.google.com/github/callaghan210-coder/FinaceAI/blob/main/transactional_data.ipynb\" target=\"_parent\"><img src=\"https://colab.research.google.com/assets/colab-badge.svg\" alt=\"Open In Colab\"/></a>"
      ]
    },
    {
      "cell_type": "code",
      "source": [
        "!pip install faker\n"
      ],
      "metadata": {
        "colab": {
          "base_uri": "https://localhost:8080/"
        },
        "id": "tki3yLU9AKfg",
        "outputId": "834c3f94-818b-46fd-f48b-55960fa72a15"
      },
      "execution_count": null,
      "outputs": [
        {
          "output_type": "stream",
          "name": "stdout",
          "text": [
            "Collecting faker\n",
            "  Downloading Faker-30.0.0-py3-none-any.whl.metadata (15 kB)\n",
            "Requirement already satisfied: python-dateutil>=2.4 in /usr/local/lib/python3.10/dist-packages (from faker) (2.8.2)\n",
            "Requirement already satisfied: six>=1.5 in /usr/local/lib/python3.10/dist-packages (from python-dateutil>=2.4->faker) (1.16.0)\n",
            "Downloading Faker-30.0.0-py3-none-any.whl (1.8 MB)\n",
            "\u001b[2K   \u001b[90m━━━━━━━━━━━━━━━━━━━━━━━━━━━━━━━━━━━━━━━━\u001b[0m \u001b[32m1.8/1.8 MB\u001b[0m \u001b[31m17.2 MB/s\u001b[0m eta \u001b[36m0:00:00\u001b[0m\n",
            "\u001b[?25hInstalling collected packages: faker\n",
            "Successfully installed faker-30.0.0\n"
          ]
        }
      ]
    },
    {
      "cell_type": "code",
      "execution_count": null,
      "metadata": {
        "colab": {
          "base_uri": "https://localhost:8080/"
        },
        "id": "nr7A5yvc_Pva",
        "outputId": "11ffb193-f8da-4613-d6d2-73490fd771d0"
      },
      "outputs": [
        {
          "output_type": "stream",
          "name": "stdout",
          "text": [
            "                        Date Mode of Payment       Category  Subcategory  \\\n",
            "0 2024-05-05 14:43:51.825576            Cash           Food    Groceries   \n",
            "1 2024-04-26 13:54:45.049864      Debit Card      Transport          Gas   \n",
            "2 2024-01-26 10:00:02.645110            Cash      Transport         Taxi   \n",
            "3 2024-05-28 21:51:02.244446      Debit Card       Shopping  Electronics   \n",
            "4 2024-01-08 11:45:19.731649      Debit Card  Entertainment       Movies   \n",
            "\n",
            "   Amount Income/Expense  Account Balance  \n",
            "0  145.45         Income          9377.07  \n",
            "1   92.02         Income          2429.49  \n",
            "2  484.78         Income          7227.10  \n",
            "3  468.90        Expense          8317.22  \n",
            "4  402.51        Expense          5597.74  \n"
          ]
        }
      ],
      "source": [
        "from faker import Faker\n",
        "import pandas as pd\n",
        "import random\n",
        "\n",
        "fake = Faker()\n",
        "\n",
        "def generate_transaction():\n",
        "    category = random.choice(['Food', 'Transport', 'Entertainment', 'Bills', 'Shopping'])\n",
        "    subcategory = {\n",
        "        'Food': ['Groceries', 'Dining Out'],\n",
        "        'Transport': ['Bus', 'Taxi', 'Gas'],\n",
        "        'Entertainment': ['Movies', 'Games'],\n",
        "        'Bills': ['Rent', 'Electricity', 'Water'],\n",
        "        'Shopping': ['Clothes', 'Electronics']\n",
        "    }\n",
        "    return {\n",
        "        'Date': fake.date_time_this_year(),\n",
        "        'Mode of Payment': random.choice(['Credit Card', 'Debit Card', 'Cash']),\n",
        "        'Category': category,\n",
        "        'Subcategory': random.choice(subcategory[category]),\n",
        "        'Amount': round(random.uniform(5, 500), 2),\n",
        "        'Income/Expense': random.choice(['Income', 'Expense']),\n",
        "        'Account Balance': round(random.uniform(1000, 10000), 2)\n",
        "    }\n",
        "\n",
        "# Generate a DataFrame with 100 transactions\n",
        "transactions = [generate_transaction() for _ in range(100000)]\n",
        "df = pd.DataFrame(transactions)\n",
        "print(df.head())\n"
      ]
    },
    {
      "cell_type": "code",
      "source": [
        "# Save the DataFrame as a CSV file\n",
        "df.to_csv('transactions2.csv', index=False)\n",
        "\n",
        "# Download the CSV file\n",
        "from google.colab import files\n",
        "files.download('transactions2.csv')\n"
      ],
      "metadata": {
        "colab": {
          "base_uri": "https://localhost:8080/",
          "height": 17
        },
        "id": "Dw0J1SV4A6MA",
        "outputId": "df9b8971-7572-4799-f2aa-e31f8fa80f08"
      },
      "execution_count": null,
      "outputs": [
        {
          "output_type": "display_data",
          "data": {
            "text/plain": [
              "<IPython.core.display.Javascript object>"
            ],
            "application/javascript": [
              "\n",
              "    async function download(id, filename, size) {\n",
              "      if (!google.colab.kernel.accessAllowed) {\n",
              "        return;\n",
              "      }\n",
              "      const div = document.createElement('div');\n",
              "      const label = document.createElement('label');\n",
              "      label.textContent = `Downloading \"${filename}\": `;\n",
              "      div.appendChild(label);\n",
              "      const progress = document.createElement('progress');\n",
              "      progress.max = size;\n",
              "      div.appendChild(progress);\n",
              "      document.body.appendChild(div);\n",
              "\n",
              "      const buffers = [];\n",
              "      let downloaded = 0;\n",
              "\n",
              "      const channel = await google.colab.kernel.comms.open(id);\n",
              "      // Send a message to notify the kernel that we're ready.\n",
              "      channel.send({})\n",
              "\n",
              "      for await (const message of channel.messages) {\n",
              "        // Send a message to notify the kernel that we're ready.\n",
              "        channel.send({})\n",
              "        if (message.buffers) {\n",
              "          for (const buffer of message.buffers) {\n",
              "            buffers.push(buffer);\n",
              "            downloaded += buffer.byteLength;\n",
              "            progress.value = downloaded;\n",
              "          }\n",
              "        }\n",
              "      }\n",
              "      const blob = new Blob(buffers, {type: 'application/binary'});\n",
              "      const a = document.createElement('a');\n",
              "      a.href = window.URL.createObjectURL(blob);\n",
              "      a.download = filename;\n",
              "      div.appendChild(a);\n",
              "      a.click();\n",
              "      div.remove();\n",
              "    }\n",
              "  "
            ]
          },
          "metadata": {}
        },
        {
          "output_type": "display_data",
          "data": {
            "text/plain": [
              "<IPython.core.display.Javascript object>"
            ],
            "application/javascript": [
              "download(\"download_11cef072-24f9-47e8-a22a-3f5d8bd75d58\", \"transactions2.csv\", 7500886)"
            ]
          },
          "metadata": {}
        }
      ]
    }
  ]
}