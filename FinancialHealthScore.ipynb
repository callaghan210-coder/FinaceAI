{
  "nbformat": 4,
  "nbformat_minor": 0,
  "metadata": {
    "colab": {
      "provenance": [],
      "authorship_tag": "ABX9TyMFqPIwctGtRUd5lIy9z+WZ",
      "include_colab_link": true
    },
    "kernelspec": {
      "name": "python3",
      "display_name": "Python 3"
    },
    "language_info": {
      "name": "python"
    }
  },
  "cells": [
    {
      "cell_type": "markdown",
      "metadata": {
        "id": "view-in-github",
        "colab_type": "text"
      },
      "source": [
        "<a href=\"https://colab.research.google.com/github/callaghan210-coder/FinaceAI/blob/main/FinancialHealthScore.ipynb\" target=\"_parent\"><img src=\"https://colab.research.google.com/assets/colab-badge.svg\" alt=\"Open In Colab\"/></a>"
      ]
    },
    {
      "cell_type": "markdown",
      "source": [
        "# Key Components:\n",
        "\n",
        "\n",
        "1.   **User Profiles**: Store savings, debts, and demographic info.\n",
        "2.   **Transactions**: Store income and expense data.\n",
        "3. **Health Score Calculation**: Function that uses income, expenses, savings, and debt to determine financial health.\n",
        "4. **Real-Time Updates**: Recalculate and update the health score with every new transaction"
      ],
      "metadata": {
        "id": "u_7xPhJCagh1"
      }
    },
    {
      "cell_type": "code",
      "execution_count": null,
      "metadata": {
        "colab": {
          "base_uri": "https://localhost:8080/"
        },
        "id": "_jbn2DOyYtCG",
        "outputId": "60a20d71-5579-499e-c4cb-717fdeb2b2d3"
      },
      "outputs": [
        {
          "output_type": "stream",
          "name": "stdout",
          "text": [
            "Collecting faker\n",
            "  Downloading Faker-30.0.0-py3-none-any.whl.metadata (15 kB)\n",
            "Requirement already satisfied: python-dateutil>=2.4 in /usr/local/lib/python3.10/dist-packages (from faker) (2.8.2)\n",
            "Requirement already satisfied: six>=1.5 in /usr/local/lib/python3.10/dist-packages (from python-dateutil>=2.4->faker) (1.16.0)\n",
            "Downloading Faker-30.0.0-py3-none-any.whl (1.8 MB)\n",
            "\u001b[2K   \u001b[90m━━━━━━━━━━━━━━━━━━━━━━━━━━━━━━━━━━━━━━━━\u001b[0m \u001b[32m1.8/1.8 MB\u001b[0m \u001b[31m13.3 MB/s\u001b[0m eta \u001b[36m0:00:00\u001b[0m\n",
            "\u001b[?25hInstalling collected packages: faker\n",
            "Successfully installed faker-30.0.0\n"
          ]
        }
      ],
      "source": [
        "!pip install faker"
      ]
    },
    {
      "cell_type": "code",
      "source": [
        "from faker import Faker\n",
        "import pandas as pd\n",
        "import random\n",
        "\n",
        "fake = Faker()\n",
        "\n",
        "# Define user profile generator\n",
        "def generate_user_profile():\n",
        "    return {\n",
        "        'User ID': fake.uuid4(),\n",
        "        'Occupation': random.choice(['Engineer', 'Teacher', 'Student', 'Doctor', 'Freelancer']),\n",
        "        'Age': random.randint(18, 65),\n",
        "        'Saving Amount': round(random.uniform(100, 5000), 2),\n",
        "        'Total Debts': round(random.uniform(1000, 20000), 2),  # Total debts\n",
        "        'Debt Type': random.choice(['Credit Card', 'Personal Loan', 'Student Loan', 'Mortgage'])  # Type of debt\n",
        "    }\n",
        "\n",
        "# Define goal generator\n",
        "def generate_user_goal(user_id):  # Accept user_id as an argument\n",
        "    return {\n",
        "        'User ID': user_id,  # Add User ID to the goal data\n",
        "        'Goal': random.choice(['Buy a house', 'Vacation', 'Car purchase', 'Education Fund', 'Emergency Fund']),\n",
        "        'Goal Amount': round(random.uniform(1000, 20000), 2),\n",
        "        'Period (Months)': random.randint(6, 60),\n",
        "        'Importance': random.choice(['Basic', 'Luxury'])\n",
        "    }\n",
        "\n",
        "# Generate financial transaction data\n",
        "def generate_transaction(user_id):\n",
        "    category = random.choice(['Income', 'Food', 'Transport', 'Entertainment', 'Bills', 'Shopping', 'Debt'])\n",
        "    subcategory = {\n",
        "        'Income': ['Salary', 'Freelance', 'Investments'],\n",
        "        'Food': ['Groceries', 'Dining Out'],\n",
        "        'Transport': ['Bus', 'Taxi', 'Gas'],\n",
        "        'Entertainment': ['Movies', 'Games'],\n",
        "        'Bills': ['Rent', 'Electricity', 'Water'],\n",
        "        'Shopping': ['Clothes', 'Electronics'],\n",
        "        'Debt': ['Loan Repayment', 'Credit Card Payment', 'New Debt']  # Debt-related subcategories\n",
        "    }\n",
        "    income_expense = 'Income' if category == 'Income' else 'Expense'\n",
        "\n",
        "    return {\n",
        "        'User ID': user_id,\n",
        "        'Date': fake.date_time_this_year(),\n",
        "        'Mode of Payment': random.choice(['Credit Card', 'Debit Card', 'Cash', 'Bank Transfer']),\n",
        "        'Category': category,\n",
        "        'Subcategory': random.choice(subcategory[category]),\n",
        "        'Amount': round(random.uniform(5, 5000), 2) if income_expense == 'Expense' else round(random.uniform(100, 10000), 2),\n",
        "        'Income/Expense': income_expense,\n",
        "        'Account Balance': round(random.uniform(1000, 10000), 2)\n",
        "    }\n",
        "\n",
        "# Generate data for 100,000 users with a configurable number of transactions per user\n",
        "def generate_user_data(num_users=100000, num_transactions_per_user=1):\n",
        "    user_profiles = [generate_user_profile() for _ in range(num_users)]\n",
        "    transactions = []\n",
        "    goals = []\n",
        "\n",
        "    for user in user_profiles:\n",
        "        user_id = user['User ID']\n",
        "        # Generate transactions for each user\n",
        "        transactions.extend([generate_transaction(user_id) for _ in range(num_transactions_per_user)])\n",
        "        # Generate a financial goal for each user and include user_id\n",
        "        goals.append(generate_user_goal(user_id))  # Pass user_id here!\n",
        "\n",
        "    return pd.DataFrame(user_profiles), pd.DataFrame(transactions), pd.DataFrame(goals)\n",
        "\n",
        "# Generate user profiles, transactions, and goals\n",
        "df_users, df_transactions, df_goals = generate_user_data(num_users=100000, num_transactions_per_user=1)\n",
        "\n",
        "# Show data summary\n",
        "print(\"User Profiles Shape:\", df_users.shape)\n",
        "print(\"Transactions Shape:\", df_transactions.shape)\n",
        "print(\"Goals Shape:\", df_goals.shape)\n",
        "\n",
        "# Optionally save the generated data to CSV files\n",
        "df_users.to_csv('user_profiles.csv', index=False)\n",
        "df_transactions.to_csv('transactions.csv', index=False)\n",
        "df_goals.to_csv('user_goals.csv', index=False)\n"
      ],
      "metadata": {
        "colab": {
          "base_uri": "https://localhost:8080/"
        },
        "id": "Mbqfadd5Yv9o",
        "outputId": "c014fe51-ecb4-45b4-d453-87bfbd6429a6"
      },
      "execution_count": null,
      "outputs": [
        {
          "output_type": "stream",
          "name": "stdout",
          "text": [
            "User Profiles Shape: (100000, 6)\n",
            "Transactions Shape: (100000, 8)\n",
            "Goals Shape: (100000, 5)\n"
          ]
        }
      ]
    },
    {
      "cell_type": "code",
      "source": [
        "# Download the CSV file\n",
        "from google.colab import files\n",
        "files.download('user_profiles.csv')\n",
        "files.download('transactions.csv')\n",
        "files.download('user_goals.csv')\n"
      ],
      "metadata": {
        "colab": {
          "base_uri": "https://localhost:8080/",
          "height": 17
        },
        "id": "7f1R6N8KY-MT",
        "outputId": "9fbf0d2e-5b83-4019-e572-9bc46d74d211"
      },
      "execution_count": null,
      "outputs": [
        {
          "output_type": "display_data",
          "data": {
            "text/plain": [
              "<IPython.core.display.Javascript object>"
            ],
            "application/javascript": [
              "\n",
              "    async function download(id, filename, size) {\n",
              "      if (!google.colab.kernel.accessAllowed) {\n",
              "        return;\n",
              "      }\n",
              "      const div = document.createElement('div');\n",
              "      const label = document.createElement('label');\n",
              "      label.textContent = `Downloading \"${filename}\": `;\n",
              "      div.appendChild(label);\n",
              "      const progress = document.createElement('progress');\n",
              "      progress.max = size;\n",
              "      div.appendChild(progress);\n",
              "      document.body.appendChild(div);\n",
              "\n",
              "      const buffers = [];\n",
              "      let downloaded = 0;\n",
              "\n",
              "      const channel = await google.colab.kernel.comms.open(id);\n",
              "      // Send a message to notify the kernel that we're ready.\n",
              "      channel.send({})\n",
              "\n",
              "      for await (const message of channel.messages) {\n",
              "        // Send a message to notify the kernel that we're ready.\n",
              "        channel.send({})\n",
              "        if (message.buffers) {\n",
              "          for (const buffer of message.buffers) {\n",
              "            buffers.push(buffer);\n",
              "            downloaded += buffer.byteLength;\n",
              "            progress.value = downloaded;\n",
              "          }\n",
              "        }\n",
              "      }\n",
              "      const blob = new Blob(buffers, {type: 'application/binary'});\n",
              "      const a = document.createElement('a');\n",
              "      a.href = window.URL.createObjectURL(blob);\n",
              "      a.download = filename;\n",
              "      div.appendChild(a);\n",
              "      a.click();\n",
              "      div.remove();\n",
              "    }\n",
              "  "
            ]
          },
          "metadata": {}
        },
        {
          "output_type": "display_data",
          "data": {
            "text/plain": [
              "<IPython.core.display.Javascript object>"
            ],
            "application/javascript": [
              "download(\"download_c3348967-5884-4078-9e46-a4c92ca4dd9b\", \"user_profiles.csv\", 7674066)"
            ]
          },
          "metadata": {}
        },
        {
          "output_type": "display_data",
          "data": {
            "text/plain": [
              "<IPython.core.display.Javascript object>"
            ],
            "application/javascript": [
              "\n",
              "    async function download(id, filename, size) {\n",
              "      if (!google.colab.kernel.accessAllowed) {\n",
              "        return;\n",
              "      }\n",
              "      const div = document.createElement('div');\n",
              "      const label = document.createElement('label');\n",
              "      label.textContent = `Downloading \"${filename}\": `;\n",
              "      div.appendChild(label);\n",
              "      const progress = document.createElement('progress');\n",
              "      progress.max = size;\n",
              "      div.appendChild(progress);\n",
              "      document.body.appendChild(div);\n",
              "\n",
              "      const buffers = [];\n",
              "      let downloaded = 0;\n",
              "\n",
              "      const channel = await google.colab.kernel.comms.open(id);\n",
              "      // Send a message to notify the kernel that we're ready.\n",
              "      channel.send({})\n",
              "\n",
              "      for await (const message of channel.messages) {\n",
              "        // Send a message to notify the kernel that we're ready.\n",
              "        channel.send({})\n",
              "        if (message.buffers) {\n",
              "          for (const buffer of message.buffers) {\n",
              "            buffers.push(buffer);\n",
              "            downloaded += buffer.byteLength;\n",
              "            progress.value = downloaded;\n",
              "          }\n",
              "        }\n",
              "      }\n",
              "      const blob = new Blob(buffers, {type: 'application/binary'});\n",
              "      const a = document.createElement('a');\n",
              "      a.href = window.URL.createObjectURL(blob);\n",
              "      a.download = filename;\n",
              "      div.appendChild(a);\n",
              "      a.click();\n",
              "      div.remove();\n",
              "    }\n",
              "  "
            ]
          },
          "metadata": {}
        },
        {
          "output_type": "display_data",
          "data": {
            "text/plain": [
              "<IPython.core.display.Javascript object>"
            ],
            "application/javascript": [
              "download(\"download_dcc82e64-8e04-4b8b-bee9-dfdf16c3a623\", \"transactions.csv\", 11501598)"
            ]
          },
          "metadata": {}
        },
        {
          "output_type": "display_data",
          "data": {
            "text/plain": [
              "<IPython.core.display.Javascript object>"
            ],
            "application/javascript": [
              "\n",
              "    async function download(id, filename, size) {\n",
              "      if (!google.colab.kernel.accessAllowed) {\n",
              "        return;\n",
              "      }\n",
              "      const div = document.createElement('div');\n",
              "      const label = document.createElement('label');\n",
              "      label.textContent = `Downloading \"${filename}\": `;\n",
              "      div.appendChild(label);\n",
              "      const progress = document.createElement('progress');\n",
              "      progress.max = size;\n",
              "      div.appendChild(progress);\n",
              "      document.body.appendChild(div);\n",
              "\n",
              "      const buffers = [];\n",
              "      let downloaded = 0;\n",
              "\n",
              "      const channel = await google.colab.kernel.comms.open(id);\n",
              "      // Send a message to notify the kernel that we're ready.\n",
              "      channel.send({})\n",
              "\n",
              "      for await (const message of channel.messages) {\n",
              "        // Send a message to notify the kernel that we're ready.\n",
              "        channel.send({})\n",
              "        if (message.buffers) {\n",
              "          for (const buffer of message.buffers) {\n",
              "            buffers.push(buffer);\n",
              "            downloaded += buffer.byteLength;\n",
              "            progress.value = downloaded;\n",
              "          }\n",
              "        }\n",
              "      }\n",
              "      const blob = new Blob(buffers, {type: 'application/binary'});\n",
              "      const a = document.createElement('a');\n",
              "      a.href = window.URL.createObjectURL(blob);\n",
              "      a.download = filename;\n",
              "      div.appendChild(a);\n",
              "      a.click();\n",
              "      div.remove();\n",
              "    }\n",
              "  "
            ]
          },
          "metadata": {}
        },
        {
          "output_type": "display_data",
          "data": {
            "text/plain": [
              "<IPython.core.display.Javascript object>"
            ],
            "application/javascript": [
              "download(\"download_8816ee9a-baaf-41de-aacb-b78b0b16a8e7\", \"user_goals.csv\", 6765453)"
            ]
          },
          "metadata": {}
        }
      ]
    },
    {
      "cell_type": "markdown",
      "source": [
        "# 1. Loading the Dataset\n",
        "We will start by loading the CSV files containing user profiles, transactions, and goals."
      ],
      "metadata": {
        "id": "MDdmbLuPaxyT"
      }
    },
    {
      "cell_type": "code",
      "source": [
        "import pandas as pd\n",
        "\n",
        "# Load the datasets\n",
        "df_users = pd.read_csv('/content/user_profiles.csv')\n",
        "df_transactions = pd.read_csv('/content/transactions.csv')\n",
        "df_goals = pd.read_csv('/content/user_goals.csv')\n",
        "\n",
        "# Show the shape of each dataset to confirm successful loading\n",
        "print(\"User Profiles Shape:\", df_users.shape)\n",
        "print(\"Transactions Shape:\", df_transactions.shape)\n",
        "print(\"Goals Shape:\", df_goals.shape)\n",
        "\n",
        "# Optionally preview the data\n",
        "print(df_users.head())\n",
        "print(df_transactions.head())\n",
        "print(df_goals.head())"
      ],
      "metadata": {
        "colab": {
          "base_uri": "https://localhost:8080/"
        },
        "id": "kbFwaKsaZmUP",
        "outputId": "614f9de1-a5e5-4226-f5a4-c1b1c2bddc26"
      },
      "execution_count": null,
      "outputs": [
        {
          "output_type": "stream",
          "name": "stdout",
          "text": [
            "User Profiles Shape: (100000, 6)\n",
            "Transactions Shape: (100000, 8)\n",
            "Goals Shape: (100000, 5)\n",
            "                                User ID  Occupation  Age  Saving Amount  \\\n",
            "0  0318c2de-7376-4cd9-a6f6-5c199948682d     Teacher   60        4498.78   \n",
            "1  8edd7118-1865-4aaf-8254-22dd0b32fd46  Freelancer   65        2353.73   \n",
            "2  8c44ee71-1e23-4785-ada7-edd158560935  Freelancer   38         813.40   \n",
            "3  d1ba6a8b-d21a-4e67-8761-31a1b07d163b     Teacher   40        3717.56   \n",
            "4  dd67882c-2625-4298-abec-e1f04300af25  Freelancer   60        2372.86   \n",
            "\n",
            "   Total Debts     Debt Type  \n",
            "0     17838.30   Credit Card  \n",
            "1      8954.34  Student Loan  \n",
            "2      5687.75  Student Loan  \n",
            "3     16495.68      Mortgage  \n",
            "4      9260.36  Student Loan  \n",
            "                                User ID                        Date  \\\n",
            "0  0318c2de-7376-4cd9-a6f6-5c199948682d  2024-04-29 14:14:15.976035   \n",
            "1  8edd7118-1865-4aaf-8254-22dd0b32fd46  2024-04-20 03:13:23.250601   \n",
            "2  8c44ee71-1e23-4785-ada7-edd158560935  2024-01-09 14:18:40.721330   \n",
            "3  d1ba6a8b-d21a-4e67-8761-31a1b07d163b  2024-04-15 09:03:53.677213   \n",
            "4  dd67882c-2625-4298-abec-e1f04300af25  2024-04-16 11:51:32.933988   \n",
            "\n",
            "  Mode of Payment       Category     Subcategory   Amount Income/Expense  \\\n",
            "0            Cash  Entertainment           Games  2848.90        Expense   \n",
            "1      Debit Card           Food       Groceries  3397.86        Expense   \n",
            "2            Cash       Shopping         Clothes   356.63        Expense   \n",
            "3      Debit Card           Debt  Loan Repayment  3380.35        Expense   \n",
            "4            Cash           Food      Dining Out  4219.66        Expense   \n",
            "\n",
            "   Account Balance  \n",
            "0          4852.30  \n",
            "1          2503.90  \n",
            "2          2408.10  \n",
            "3          1497.75  \n",
            "4          9961.42  \n",
            "                                User ID            Goal  Goal Amount  \\\n",
            "0  0318c2de-7376-4cd9-a6f6-5c199948682d        Vacation      9698.39   \n",
            "1  8edd7118-1865-4aaf-8254-22dd0b32fd46     Buy a house      9052.39   \n",
            "2  8c44ee71-1e23-4785-ada7-edd158560935     Buy a house     10515.70   \n",
            "3  d1ba6a8b-d21a-4e67-8761-31a1b07d163b  Emergency Fund      3363.30   \n",
            "4  dd67882c-2625-4298-abec-e1f04300af25    Car purchase     14065.39   \n",
            "\n",
            "   Period (Months) Importance  \n",
            "0               20     Luxury  \n",
            "1               51      Basic  \n",
            "2               15     Luxury  \n",
            "3                9      Basic  \n",
            "4               32     Luxury  \n"
          ]
        }
      ]
    },
    {
      "cell_type": "code",
      "source": [],
      "metadata": {
        "id": "OikwAeiXZ51k"
      },
      "execution_count": null,
      "outputs": []
    },
    {
      "cell_type": "markdown",
      "source": [
        "# 2. Define Financial Health Score Calculation\n",
        "Now, we define a function to calculate the financial health score for each user based on their transactions, profile data, and goals."
      ],
      "metadata": {
        "id": "KWyGpfG7a6Jb"
      }
    },
    {
      "cell_type": "code",
      "source": [
        "def calculate_financial_health(user_id, transactions, user_profile, user_goal):\n",
        "    # Filter transactions for the specific user\n",
        "    user_transactions = transactions[transactions['User ID'] == user_id]\n",
        "\n",
        "    # Calculate total income and expenses\n",
        "    total_income = user_transactions[user_transactions['Income/Expense'] == 'Income']['Amount'].sum()\n",
        "    total_expenses = user_transactions[user_transactions['Income/Expense'] == 'Expense']['Amount'].sum()\n",
        "\n",
        "    # Calculate category spending (e.g., Entertainment spending)\n",
        "    entertainment_spending = user_transactions[user_transactions['Category'] == 'Entertainment']['Amount'].sum()\n",
        "    debt_repayments = user_transactions[user_transactions['Category'] == 'Debt']['Amount'].sum()\n",
        "\n",
        "    # Get user-specific information from the profile\n",
        "    savings = user_profile['Saving Amount']\n",
        "    total_debt = user_profile['Total Debts']\n",
        "\n",
        "    # Get user goal information\n",
        "    goal_amount = user_goal['Goal Amount']\n",
        "    goal_period_months = user_goal['Period (Months)']\n",
        "\n",
        "    # Calculate metrics\n",
        "    if total_income > 0:  # Prevent division by zero\n",
        "        savings_rate = savings / total_income\n",
        "        debt_to_income_ratio = total_debt / total_income\n",
        "        entertainment_spending_rate = entertainment_spending / total_income\n",
        "        debt_repayment_rate = debt_repayments / total_income\n",
        "    else:\n",
        "        savings_rate = debt_to_income_ratio = entertainment_spending_rate = debt_repayment_rate = 0\n",
        "\n",
        "    # Goal achievement calculation\n",
        "    goal_achievement = savings / goal_amount if goal_amount > 0 else 0\n",
        "\n",
        "    # Financial health score calculation\n",
        "    score = (0.3 * savings_rate) - (0.3 * debt_to_income_ratio) - (0.1 * entertainment_spending_rate) - (0.1 * debt_repayment_rate) + (0.2 * goal_achievement)\n",
        "\n",
        "    return score\n"
      ],
      "metadata": {
        "id": "yp3QHYiuOhiI"
      },
      "execution_count": null,
      "outputs": []
    },
    {
      "cell_type": "markdown",
      "source": [
        "# 3. Apply the Financial Health Score to All Users\n",
        "Now, we use the function defined above to calculate the financial health score for each user."
      ],
      "metadata": {
        "id": "CQIrdKBybAE5"
      }
    },
    {
      "cell_type": "code",
      "source": [
        "# Apply the scoring function for each user\n",
        "df_users['Financial Health Score'] = df_users.apply(lambda x: calculate_financial_health(x['User ID'], df_transactions, x, df_goals.loc[df_goals.index[x.name]]), axis=1)\n",
        "\n",
        "# Inspect the result\n",
        "print(df_users[['User ID', 'Financial Health Score']].head())"
      ],
      "metadata": {
        "colab": {
          "base_uri": "https://localhost:8080/"
        },
        "id": "gjhofanvaEMR",
        "outputId": "8a268ba1-c55e-4106-b587-5494e87d77cb"
      },
      "execution_count": null,
      "outputs": [
        {
          "output_type": "stream",
          "name": "stdout",
          "text": [
            "                                User ID  Financial Health Score\n",
            "0  0318c2de-7376-4cd9-a6f6-5c199948682d                0.092774\n",
            "1  8edd7118-1865-4aaf-8254-22dd0b32fd46                0.052002\n",
            "2  8c44ee71-1e23-4785-ada7-edd158560935                0.015470\n",
            "3  d1ba6a8b-d21a-4e67-8761-31a1b07d163b                0.221066\n",
            "4  dd67882c-2625-4298-abec-e1f04300af25                0.033740\n"
          ]
        }
      ]
    },
    {
      "cell_type": "code",
      "source": [
        "# Save the updated user profiles with financial health scores to a CSV file\n",
        "df_users.to_csv('updated_user_profiles.csv', index=False)\n",
        "\n",
        "# Confirm the file has been saved\n",
        "print(\"Updated user profiles saved to 'updated_user_profiles.csv'.\")\n"
      ],
      "metadata": {
        "colab": {
          "base_uri": "https://localhost:8080/"
        },
        "id": "B90KCG1bdFto",
        "outputId": "470009ba-5049-4742-f84e-81551b816283"
      },
      "execution_count": null,
      "outputs": [
        {
          "output_type": "stream",
          "name": "stdout",
          "text": [
            "Updated user profiles saved to 'updated_user_profiles.csv'.\n"
          ]
        }
      ]
    },
    {
      "cell_type": "code",
      "source": [
        "\n",
        "\n",
        "\n",
        "# Import files from google.colab to facilitate the download\n",
        "from google.colab import files\n",
        "\n",
        "# Download the file\n",
        "files.download('updated_user_profiles.csv')\n"
      ],
      "metadata": {
        "colab": {
          "base_uri": "https://localhost:8080/",
          "height": 17
        },
        "id": "OhOQUL8FfhVv",
        "outputId": "89222388-7eb3-4c0f-f49e-6c1ea9589544"
      },
      "execution_count": null,
      "outputs": [
        {
          "output_type": "display_data",
          "data": {
            "text/plain": [
              "<IPython.core.display.Javascript object>"
            ],
            "application/javascript": [
              "\n",
              "    async function download(id, filename, size) {\n",
              "      if (!google.colab.kernel.accessAllowed) {\n",
              "        return;\n",
              "      }\n",
              "      const div = document.createElement('div');\n",
              "      const label = document.createElement('label');\n",
              "      label.textContent = `Downloading \"${filename}\": `;\n",
              "      div.appendChild(label);\n",
              "      const progress = document.createElement('progress');\n",
              "      progress.max = size;\n",
              "      div.appendChild(progress);\n",
              "      document.body.appendChild(div);\n",
              "\n",
              "      const buffers = [];\n",
              "      let downloaded = 0;\n",
              "\n",
              "      const channel = await google.colab.kernel.comms.open(id);\n",
              "      // Send a message to notify the kernel that we're ready.\n",
              "      channel.send({})\n",
              "\n",
              "      for await (const message of channel.messages) {\n",
              "        // Send a message to notify the kernel that we're ready.\n",
              "        channel.send({})\n",
              "        if (message.buffers) {\n",
              "          for (const buffer of message.buffers) {\n",
              "            buffers.push(buffer);\n",
              "            downloaded += buffer.byteLength;\n",
              "            progress.value = downloaded;\n",
              "          }\n",
              "        }\n",
              "      }\n",
              "      const blob = new Blob(buffers, {type: 'application/binary'});\n",
              "      const a = document.createElement('a');\n",
              "      a.href = window.URL.createObjectURL(blob);\n",
              "      a.download = filename;\n",
              "      div.appendChild(a);\n",
              "      a.click();\n",
              "      div.remove();\n",
              "    }\n",
              "  "
            ]
          },
          "metadata": {}
        },
        {
          "output_type": "display_data",
          "data": {
            "text/plain": [
              "<IPython.core.display.Javascript object>"
            ],
            "application/javascript": [
              "download(\"download_0e2ef0e2-08ce-4210-8826-2a1383547b54\", \"updated_user_profiles.csv\", 9693947)"
            ]
          },
          "metadata": {}
        }
      ]
    },
    {
      "cell_type": "markdown",
      "source": [
        "# 4. Trigger Financial Health Calculation After Every Transaction For Both New and Existing Users"
      ],
      "metadata": {
        "id": "dVkeOgEtbGSL"
      }
    },
    {
      "cell_type": "code",
      "source": [
        "def calculate_financial_health(user_id, df_users, df_transactions, user_goal):\n",
        "    user_transactions = df_transactions[df_transactions['User ID'] == user_id]\n",
        "    total_income = user_transactions[user_transactions['Income/Expense'] == 'Income']['Amount'].sum()\n",
        "    total_expenses = user_transactions[user_transactions['Income/Expense'] == 'Expense']['Amount'].sum()\n",
        "    saving_amount = df_users[df_users['User ID'] == user_id]['Saving Amount'].values[0]\n",
        "    total_debts = df_users[df_users['User ID'] == user_id]['Total Debts'].values[0]\n",
        "\n",
        "    # Example financial health formula considering user goal\n",
        "    goal_importance_weight = 0.2 if user_goal['Importance'] == 'Luxury' else 0.1\n",
        "    score = (saving_amount / (total_expenses + 1)) * 0.4 + (total_income / (total_debts + 1)) * 0.6 - goal_importance_weight\n",
        "    return round(score, 2)"
      ],
      "metadata": {
        "id": "He1kQ5EYaN3_"
      },
      "execution_count": null,
      "outputs": []
    },
    {
      "cell_type": "code",
      "source": [],
      "metadata": {
        "id": "6A3YXagfaTgr"
      },
      "execution_count": null,
      "outputs": []
    },
    {
      "cell_type": "code",
      "source": [
        "def process_transaction(new_transaction, df_users, df_transactions, df_goals):\n",
        "    user_id = new_transaction['User ID']\n",
        "\n",
        "    if user_id in df_users['User ID'].values:\n",
        "        print(f\"User ID {user_id} found, processing transaction.\")\n",
        "        new_transaction_df = pd.DataFrame([new_transaction])\n",
        "        df_transactions = pd.concat([df_transactions, new_transaction_df], ignore_index=True)\n",
        "\n",
        "        # Fetch the user's goal\n",
        "        user_goal = df_goals[df_goals['User ID'] == user_id].to_dict('records')[0]\n",
        "\n",
        "        # Recalculate the financial health score for this user\n",
        "        new_score = calculate_financial_health(user_id, df_users, df_transactions, user_goal)\n",
        "        df_users.loc[df_users['User ID'] == user_id, 'Financial Health Score'] = new_score\n",
        "        print(f\"Updated Financial Health Score for {user_id}: {new_score}\")\n",
        "    else:\n",
        "        print(f\"User ID {user_id} not found, creating a new user profile.\")\n",
        "\n",
        "        # Create a new user profile\n",
        "        new_user_profile = generate_user_profile()\n",
        "        df_users = pd.concat([df_users, pd.DataFrame([new_user_profile])], ignore_index=True)\n",
        "\n",
        "        # Create a financial goal for the new user\n",
        "        new_user_goal = generate_user_goal()\n",
        "        new_user_goal['User ID'] = user_id\n",
        "        df_goals = pd.concat([df_goals, pd.DataFrame([new_user_goal])], ignore_index=True)\n",
        "\n",
        "        new_transaction_df = pd.DataFrame([new_transaction])\n",
        "        df_transactions = pd.concat([df_transactions, new_transaction_df], ignore_index=True)\n",
        "\n",
        "        # Fetch the newly created user's goal\n",
        "        user_goal = new_user_goal\n",
        "\n",
        "        # Recalculate the financial health score for this new user\n",
        "        new_score = calculate_financial_health(user_id, df_users, df_transactions, user_goal)\n",
        "        df_users.loc[df_users['User ID'] == user_id, 'Financial Health Score'] = new_score\n",
        "        print(f\"New user created with Financial Health Score: {new_score}\")\n",
        "\n",
        "    return df_users, df_transactions, df_goals\n"
      ],
      "metadata": {
        "id": "fNmUnU1IVpsW"
      },
      "execution_count": null,
      "outputs": []
    }
  ]
}